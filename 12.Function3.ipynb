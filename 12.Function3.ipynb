{
 "cells": [
  {
   "cell_type": "code",
   "execution_count": null,
   "metadata": {},
   "outputs": [],
   "source": [
    "#with_ruturn_statemnet\n",
    "#it_is_the_ideal_way\n",
    "def AgeCategory():\n",
    "    if age < 18:\n",
    "        print(\"Children\")\n",
    "        cate = \"Children\"\n",
    "    elif age < 35:\n",
    "        print(\"Adult\")\n",
    "        cate = \"Adult\"\n",
    "    elif age < 59:\n",
    "        print(\"Citizen\")\n",
    "        cate = \"Citizen\"\n",
    "    else:\n",
    "        print(\"Senior Citizen\")\n",
    "        cate = \"Senior Citizen\"\n",
    "    \n",
    "    return cate\n",
    "       "
   ]
  },
  {
   "cell_type": "code",
   "execution_count": null,
   "metadata": {},
   "outputs": [],
   "source": [
    "age = int(input(\"Enter the Age: \"))\n",
    "agecate = AgeCategory()"
   ]
  },
  {
   "cell_type": "code",
   "execution_count": null,
   "metadata": {},
   "outputs": [],
   "source": [
    "print(agecate)"
   ]
  },
  {
   "cell_type": "code",
   "execution_count": null,
   "metadata": {},
   "outputs": [],
   "source": [
    "#if_not_given_return_statement_answer_is_none\n",
    "def AgeCategory_NoReturn():\n",
    "    if age < 18:\n",
    "        print(\"Children\")\n",
    "        cate = \"Children\"\n",
    "    elif age < 35:\n",
    "        print(\"Adult\")\n",
    "        cate = \"Adult\"\n",
    "    elif age < 59:\n",
    "        print(\"Citizen\")\n",
    "        cate = \"Citizen\"\n",
    "    else:\n",
    "        print(\"Senior Citizen\")\n",
    "        cate = \"Senior Citizen\""
   ]
  },
  {
   "cell_type": "code",
   "execution_count": null,
   "metadata": {},
   "outputs": [],
   "source": [
    "age = int(input(\"Enter the Age: \"))"
   ]
  },
  {
   "cell_type": "code",
   "execution_count": null,
   "metadata": {},
   "outputs": [],
   "source": [
    "agecate=AgeCategory_NoReturn()"
   ]
  },
  {
   "cell_type": "code",
   "execution_count": null,
   "metadata": {},
   "outputs": [],
   "source": [
    "print(agecate)"
   ]
  },
  {
   "cell_type": "markdown",
   "metadata": {},
   "source": [
    "we can write various program by this set of codes which has function statement. \n",
    "that is one of the main advantage of Function"
   ]
  },
  {
   "cell_type": "code",
   "execution_count": null,
   "metadata": {},
   "outputs": [],
   "source": [
    "age = int(input(\"Enter the Age: \"))\n",
    "agecate2=AgeCategory()"
   ]
  },
  {
   "cell_type": "code",
   "execution_count": null,
   "metadata": {},
   "outputs": [],
   "source": [
    "print(agecate2)"
   ]
  },
  {
   "cell_type": "markdown",
   "metadata": {},
   "source": [
    "Let's go into the next level of Function"
   ]
  },
  {
   "cell_type": "code",
   "execution_count": null,
   "metadata": {},
   "outputs": [],
   "source": [
    "def odd_even():\n",
    "    num = int(input(\"Enter the number: \"))\n",
    "    if num % 2 == 1:\n",
    "        print(\"Odd Number\")\n",
    "        message = \"Odd Number\"\n",
    "    else:\n",
    "        print(\"Even Number\")\n",
    "        message = \"Even Number\"\n",
    "    return message"
   ]
  },
  {
   "cell_type": "code",
   "execution_count": null,
   "metadata": {},
   "outputs": [],
   "source": [
    "message = odd_even()"
   ]
  },
  {
   "cell_type": "code",
   "execution_count": null,
   "metadata": {},
   "outputs": [],
   "source": [
    "if message == \"Odd Number\":\n",
    "    print(\"The Given number is Odd\")\n",
    "else:\n",
    "    print(\"The given number is Even\")"
   ]
  },
  {
   "cell_type": "markdown",
   "metadata": {},
   "source": [
    "Let's go into the next level of Function"
   ]
  },
  {
   "cell_type": "code",
   "execution_count": 2,
   "metadata": {},
   "outputs": [],
   "source": [
    "def BMI():\n",
    "    BMI = int(input(\"Enter the BMI Index\"))\n",
    "    if BMI  < 18.5:\n",
    "        print(\"Underweight\")\n",
    "        message = \"Underweight\"\n",
    "    elif BMI< 25.9:\n",
    "        print(\"Normal\")\n",
    "        message = (\"Normal\") \n",
    "    elif BMI < 29.9:\n",
    "        print(\"Overweight\")\n",
    "        message = \"Overweight\"\n",
    "    else:\n",
    "        print(\"Very Overweight\")\n",
    "        message = \"Very Overweight\"\n",
    "    return message    "
   ]
  },
  {
   "cell_type": "code",
   "execution_count": 3,
   "metadata": {},
   "outputs": [
    {
     "name": "stdout",
     "output_type": "stream",
     "text": [
      "Enter the BMI Index34\n",
      "Very Overweight\n"
     ]
    }
   ],
   "source": [
    "bmi = BMI()"
   ]
  },
  {
   "cell_type": "code",
   "execution_count": 5,
   "metadata": {},
   "outputs": [
    {
     "data": {
      "text/plain": [
       "'Very Overweight'"
      ]
     },
     "execution_count": 5,
     "metadata": {},
     "output_type": "execute_result"
    }
   ],
   "source": [
    "bmi"
   ]
  },
  {
   "cell_type": "code",
   "execution_count": 6,
   "metadata": {},
   "outputs": [],
   "source": [
    "def addition(num1, num2):\n",
    "    add = num1 + num2 \n",
    "    return add \n"
   ]
  },
  {
   "cell_type": "code",
   "execution_count": 7,
   "metadata": {},
   "outputs": [
    {
     "data": {
      "text/plain": [
       "9"
      ]
     },
     "execution_count": 7,
     "metadata": {},
     "output_type": "execute_result"
    }
   ],
   "source": [
    "addition(5,4)"
   ]
  },
  {
   "cell_type": "code",
   "execution_count": 9,
   "metadata": {},
   "outputs": [],
   "source": [
    "def sub(num1, num2,num3):\n",
    "    sub = (num1 - num2 - num3) \n",
    "    return sub \n"
   ]
  },
  {
   "cell_type": "code",
   "execution_count": 10,
   "metadata": {},
   "outputs": [
    {
     "data": {
      "text/plain": [
       "-6"
      ]
     },
     "execution_count": 10,
     "metadata": {},
     "output_type": "execute_result"
    }
   ],
   "source": [
    "sub(3,4,5)"
   ]
  },
  {
   "cell_type": "code",
   "execution_count": null,
   "metadata": {},
   "outputs": [],
   "source": []
  }
 ],
 "metadata": {
  "kernelspec": {
   "display_name": "Python 3",
   "language": "python",
   "name": "python3"
  }
 },
 "nbformat": 4,
 "nbformat_minor": 2
}
